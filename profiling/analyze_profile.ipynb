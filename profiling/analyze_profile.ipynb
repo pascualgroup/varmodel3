{
 "cells": [
  {
   "cell_type": "code",
   "execution_count": 2,
   "metadata": {},
   "outputs": [],
   "source": [
    "import Profile\n",
    "import Serialization"
   ]
  },
  {
   "cell_type": "code",
   "execution_count": 3,
   "metadata": {},
   "outputs": [],
   "source": [
    "# cd(\"..\")"
   ]
  },
  {
   "cell_type": "code",
   "execution_count": 4,
   "metadata": {},
   "outputs": [
    {
     "data": {
      "text/plain": [
       "(UInt64[0x00007f062b403e8c, 0x00007f057aa4590f, 0x00007f057aa87d84, 0x00007f057aa88329, 0x00007f057aa8851b, 0x00007f057aa8dc2a, 0x00007f057aab1252, 0x00007f057aab64cf, 0x00007f0606f441f5, 0x00007f0606f44238  …  0x0000000000401088, 0x00007f062b323b89, 0x00007f062b323c4a, 0x00000000004010b8, 0x0000000000000001, 0x00007f06129fc010, 0x000b6705ff13a493, 0x0000000000000001, 0x0000000000000000, 0x0000000000000000], Dict{UInt64, Vector{Base.StackTraces.StackFrame}}(0x00007f062a6336bd => [jl_is_kind at julia.h:1371 [inlined], jl_is_kind at julia.h:1368 [inlined], typekeyvalue_eq at jltypes.c:942 [inlined], lookup_type_setvalue at jltypes.c:990 [inlined], lookup_typevalue at jltypes.c:1062], 0x00007f0607a902c9 => [println at coreio.jl:4], 0x00007f0606f4c72e => [ip:0x7f0606f4c72e], 0x00007f062a6c53ef => [jl_tuple1_isa at subtype.c:2224], 0x00007f0606f53e2d => [do_immigration! at model.jl:833], 0x00007f062a65b354 => [jl_object_id__cold at builtins.c:451], 0x00007f062a65bf6d => [ijl_object_id_ at builtins.c:472 [inlined], ijl_object_id_ at builtins.c:460 [inlined], jl_table_peek_bp at iddict.c:119 [inlined], ijl_eqtable_get at iddict.c:158], 0x00007f062a68be0b => [set_nth_field at datatype.c:1672], 0x00007f0608bd2898 => [< at int.jl:513 [inlined], rand at generation.jl:347], 0x00007f062a65c02e => [ijl_eqtable_get at iddict.c:160]…))"
      ]
     },
     "metadata": {},
     "output_type": "display_data"
    }
   ],
   "source": [
    "data, lidict = Serialization.deserialize(\"profile_data\")"
   ]
  },
  {
   "cell_type": "code",
   "execution_count": 11,
   "metadata": {},
   "outputs": [
    {
     "name": "stdout",
     "output_type": "stream",
     "text": [
      "Overhead ╎ [+additional indent] Count File:Line; Function\n",
      "=========================================================\n",
      "    ╎10102 @Base/client.jl:552; _start\n",
      "    ╎ 10102 @Base/client.jl:318; exec_options\n",
      "    ╎  10102 @Base/Base.jl:495; include\n",
      "    ╎   10102 @Base/loading.jl:2130; _include\n",
      "    ╎    10102 @Base/loading.jl:2070; include_string\n",
      "    ╎     10102 @Base/boot.jl:385; eval\n",
      "    ╎    ╎ 10102 /home/ed/Documents/varmodels/2024-03-05-profile-tools/varmodel3/src/model.jl:75; run\n",
      "    ╎    ╎  10102 /home/ed/Documents/varmodels/2024-03-05-profile-tools/varmodel3/src/model.jl:83; profile\n",
      "  26╎    ╎   10102 /cache/build/builder-amdci4-6/julialang/julia-release-1-dot-10/usr/share/julia/stdlib/v1.10/Profile/src/Profile.jl:27; macro expansion\n",
      " 255╎    ╎    305   /home/ed/Documents/varmodels/2024-03-05-profile-tools/varmodel3/src/model.jl:126; run_inner\n",
      "1547╎    ╎    1709  /home/ed/Documents/varmodels/2024-03-05-profile-tools/varmodel3/src/model.jl:128; run_inner\n",
      " 360╎    ╎    412   /home/ed/Documents/varmodels/2024-03-05-profile-tools/varmodel3/src/model.jl:129; run_inner\n",
      " 388╎    ╎    441   /home/ed/Documents/varmodels/2024-03-05-profile-tools/varmodel3/src/model.jl:134; run_inner\n",
      "   1╎    ╎    530   /home/ed/Documents/varmodels/2024-03-05-profile-tools/varmodel3/src/model.jl:151; run_inner\n",
      "    ╎    ╎     219   /home/ed/Documents/varmodels/2024-03-05-profile-tools/varmodel3/src/model.jl:212; recompute_gene_group_id_association!\n",
      " 208╎    ╎    ╎ 219   @StaticArrays/src/indexing.jl:260; getindex\n",
      " 167╎    ╎    224   /home/ed/Documents/varmodels/2024-03-05-profile-tools/varmodel3/src/model.jl:158; run_inner\n",
      " 213╎    ╎    218   /home/ed/Documents/varmodels/2024-03-05-profile-tools/varmodel3/src/model.jl:159; run_inner\n",
      " 380╎    ╎    5958  /home/ed/Documents/varmodels/2024-03-05-profile-tools/varmodel3/src/model.jl:160; run_inner\n",
      "  11╎    ╎     2288  /home/ed/Documents/varmodels/2024-03-05-profile-tools/varmodel3/src/model.jl:502; do_event!\n",
      "  21╎    ╎    ╎ 215   /home/ed/Documents/varmodels/2024-03-05-profile-tools/varmodel3/src/model.jl:588; do_biting!\n",
      "   8╎    ╎    ╎ 466   /home/ed/Documents/varmodels/2024-03-05-profile-tools/varmodel3/src/model.jl:628; do_biting!\n",
      "    ╎    ╎    ╎ 430   /home/ed/Documents/varmodels/2024-03-05-profile-tools/varmodel3/src/model.jl:677; do_biting!\n",
      " 407╎    ╎    ╎  429   @StaticArrays/src/indexing.jl:260; getindex\n",
      "  11╎    ╎    ╎ 209   /home/ed/Documents/varmodels/2024-03-05-profile-tools/varmodel3/src/model.jl:687; do_biting!\n",
      "  14╎    ╎     3196  /home/ed/Documents/varmodels/2024-03-05-profile-tools/varmodel3/src/model.jl:508; do_event!\n",
      " 248╎    ╎    ╎ 248   /home/ed/Documents/varmodels/2024-03-05-profile-tools/varmodel3/src/model.jl:911; do_switching!\n",
      " 234╎    ╎    ╎ 305   /home/ed/Documents/varmodels/2024-03-05-profile-tools/varmodel3/src/model.jl:913; do_switching!\n",
      "   6╎    ╎    ╎ 1539  /home/ed/Documents/varmodels/2024-03-05-profile-tools/varmodel3/src/model.jl:916; do_switching!\n",
      "    ╎    ╎    ╎  1149  /home/ed/Documents/varmodels/2024-03-05-profile-tools/varmodel3/src/model.jl:739; advance_host!\n",
      " 182╎    ╎    ╎   384   /home/ed/Documents/varmodels/2024-03-05-profile-tools/varmodel3/src/model.jl:996; advance_immune_genes!\n",
      " 355╎    ╎    ╎   731   /home/ed/Documents/varmodels/2024-03-05-profile-tools/varmodel3/src/model.jl:1022; advance_immune_genes!\n",
      "   1╎    ╎    ╎ 847   /home/ed/Documents/varmodels/2024-03-05-profile-tools/varmodel3/src/model.jl:974; do_switching!\n",
      " 236╎    ╎    ╎  449   /home/ed/Documents/varmodels/2024-03-05-profile-tools/varmodel3/src/model.jl:991; advance_immune_genes!\n",
      " 132╎    ╎    ╎  253   /home/ed/Documents/varmodels/2024-03-05-profile-tools/varmodel3/src/model.jl:1022; advance_immune_genes!\n",
      "Total snapshots: 10132. Utilization: 100% across all threads and tasks. Use the `groupby` kwarg to break down by thread and/or task.\n"
     ]
    }
   ],
   "source": [
    "# Profile.print(data, lidict, mincount = 200)\n",
    "Profile.print(IOContext(stdout, :displaysize => (24, 5000)), data, lidict, mincount = 200)"
   ]
  },
  {
   "cell_type": "code",
   "execution_count": null,
   "metadata": {},
   "outputs": [],
   "source": []
  }
 ],
 "metadata": {
  "kernelspec": {
   "display_name": "Julia 1.10.0",
   "language": "julia",
   "name": "julia-1.10"
  },
  "language_info": {
   "file_extension": ".jl",
   "mimetype": "application/julia",
   "name": "julia",
   "version": "1.10.0"
  }
 },
 "nbformat": 4,
 "nbformat_minor": 2
}
